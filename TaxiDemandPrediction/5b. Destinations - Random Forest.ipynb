{
 "cells": [
  {
   "cell_type": "code",
   "execution_count": 2,
   "metadata": {},
   "outputs": [
    {
     "name": "stderr",
     "output_type": "stream",
     "text": [
      "/usr/local/lib/python2.7/dist-packages/sklearn/cross_validation.py:41: DeprecationWarning: This module was deprecated in version 0.18 in favor of the model_selection module into which all the refactored classes and functions are moved. Also note that the interface of the new CV iterators are different from that of this module. This module will be removed in 0.20.\n",
      "  \"This module will be removed in 0.20.\", DeprecationWarning)\n",
      "/usr/local/lib/python2.7/dist-packages/sklearn/grid_search.py:42: DeprecationWarning: This module was deprecated in version 0.18 in favor of the model_selection module into which all the refactored classes and functions are moved. This module will be removed in 0.20.\n",
      "  DeprecationWarning)\n"
     ]
    }
   ],
   "source": [
    "%matplotlib inline\n",
    "\n",
    "import numpy as np\n",
    "import scipy as sp\n",
    "import matplotlib as mpl\n",
    "import matplotlib.cm as cm\n",
    "import matplotlib.pyplot as plt\n",
    "import pandas as pd\n",
    "pd.set_option('display.width', 500)\n",
    "pd.set_option('display.max_columns', 100)\n",
    "pd.set_option('display.notebook_repr_html', True)\n",
    "import seaborn as sns\n",
    "sns.set_style(\"whitegrid\")\n",
    "sns.set_context(\"poster\")\n",
    "from sklearn.grid_search import GridSearchCV\n",
    "from sklearn.cross_validation import train_test_split\n",
    "from sklearn.metrics import confusion_matrix\n",
    "from sklearn.ensemble import RandomForestRegressor\n",
    "from sklearn.pipeline import Pipeline\n",
    "from sklearn.cross_validation import cross_val_score\n",
    "import geohash\n",
    "from sklearn.metrics import mean_squared_error\n",
    "import random\n",
    "import math\n",
    "import datetime\n"
   ]
  },
  {
   "cell_type": "markdown",
   "metadata": {},
   "source": [
    "### Goal: Explore the possiblity of predicting a destination (lat/long) based on the pickup location, time & day"
   ]
  },
  {
   "cell_type": "markdown",
   "metadata": {},
   "source": [
    "## 1. Load the aggregated data from the CSV file"
   ]
  },
  {
   "cell_type": "code",
   "execution_count": 3,
   "metadata": {},
   "outputs": [
    {
     "name": "stdout",
     "output_type": "stream",
     "text": [
      "(6475, 5)\n"
     ]
    }
   ],
   "source": [
    "# Each line is of the format:\n",
    "\n",
    "#pickupGeohash, dropOffGeohash,time_num,day_of_week, count\n",
    "# File is also available here: https://s3.amazonaws.com/testsetu/nyc/final/groupbydestn/singlefile/part-00000\n",
    "names = [\"pickup_geohash\",\"dropoff_geohash\",\"time_num\",\"day_of_week\", \"count\"]\n",
    "df=pd.read_csv(\"./data/jason_destination1/part-00000\", header=None, names = names)\n",
    "#df = df.sample(n=10000000,weights=df['count'], replace=True)\n",
    "print df.shape"
   ]
  },
  {
   "cell_type": "markdown",
   "metadata": {},
   "source": [
    "## 2. Feature Extraction"
   ]
  },
  {
   "cell_type": "code",
   "execution_count": 4,
   "metadata": {},
   "outputs": [],
   "source": [
    "# Get the longitude and latitude from the geohash\n",
    "def decodegeo(geo, which):\n",
    "    if len(geo) >= 6:\n",
    "        geodecoded = geohash.decode(geo)\n",
    "        return geodecoded[which]\n",
    "    else:\n",
    "        return 0\n",
    "    \n",
    "def further_data_prep(df):\n",
    "  \n",
    "    df['time_sin'] = (df['time_num'] * 2 * math.pi).apply(math.sin)\n",
    "    df['time_cos'] = (df['time_num'] * 2 * math.pi).apply(math.cos)\n",
    "    df['pickup_lat'] = df['pickup_geohash'].apply(lambda geo: decodegeo(geo, 0))\n",
    "    df['pickup_long'] = df['pickup_geohash'].apply(lambda geo: decodegeo(geo, 1))\n",
    "    df['dropoff_lat'] = df['dropoff_geohash'].apply(lambda geo: decodegeo(geo, 0))\n",
    "    df['dropoff_long'] = df['dropoff_geohash'].apply(lambda geo: decodegeo(geo, 1))\n",
    "    \n",
    "    return df"
   ]
  },
  {
   "cell_type": "code",
   "execution_count": 5,
   "metadata": {},
   "outputs": [],
   "source": [
    "df = further_data_prep(df)"
   ]
  },
  {
   "cell_type": "markdown",
   "metadata": {},
   "source": [
    "## 3. Train-test split"
   ]
  },
  {
   "cell_type": "code",
   "execution_count": 7,
   "metadata": {},
   "outputs": [],
   "source": [
    "trainSetSampleSize = 1000\n",
    "testSetSize = 2000\n",
    "testSetPosns = np.random.choice(df.shape[0],testSetSize, replace = False)"
   ]
  },
  {
   "cell_type": "code",
   "execution_count": 8,
   "metadata": {},
   "outputs": [],
   "source": [
    "testSet = df.iloc[testSetPosns]\n",
    "trainSet = df.drop(testSetPosns)"
   ]
  },
  {
   "cell_type": "code",
   "execution_count": 9,
   "metadata": {},
   "outputs": [
    {
     "name": "stdout",
     "output_type": "stream",
     "text": [
      "(6475, 11)\n",
      "(4475, 11)\n",
      "(2000, 11)\n"
     ]
    }
   ],
   "source": [
    "print df.shape\n",
    "print trainSet.shape\n",
    "print testSet.shape"
   ]
  },
  {
   "cell_type": "code",
   "execution_count": 10,
   "metadata": {},
   "outputs": [],
   "source": [
    "#sample with replacement\n",
    "trainSet = trainSet.sample(n=trainSetSampleSize,weights=trainSet['count'], replace=True)"
   ]
  },
  {
   "cell_type": "code",
   "execution_count": 11,
   "metadata": {},
   "outputs": [],
   "source": [
    "X_train = trainSet[['time_num', 'time_sin', 'time_cos','day_of_week', 'pickup_lat', 'pickup_long', 'count']]\n",
    "y_train = trainSet[['dropoff_lat', 'dropoff_long']]\n",
    "\n",
    "X_test = testSet[['time_num', 'time_sin', 'time_cos','day_of_week', 'pickup_lat', 'pickup_long', 'count']]\n",
    "y_test = testSet[['dropoff_lat', 'dropoff_long']]"
   ]
  },
  {
   "cell_type": "code",
   "execution_count": 12,
   "metadata": {},
   "outputs": [
    {
     "name": "stderr",
     "output_type": "stream",
     "text": [
      "/usr/local/lib/python2.7/dist-packages/ipykernel_launcher.py:2: SettingWithCopyWarning: \n",
      "A value is trying to be set on a copy of a slice from a DataFrame\n",
      "\n",
      "See the caveats in the documentation: http://pandas.pydata.org/pandas-docs/stable/indexing.html#indexing-view-versus-copy\n",
      "  \n",
      "/usr/local/lib/python2.7/dist-packages/ipykernel_launcher.py:5: SettingWithCopyWarning: \n",
      "A value is trying to be set on a copy of a slice from a DataFrame\n",
      "\n",
      "See the caveats in the documentation: http://pandas.pydata.org/pandas-docs/stable/indexing.html#indexing-view-versus-copy\n",
      "  \"\"\"\n"
     ]
    }
   ],
   "source": [
    "pickup_count_train = X_train[['count']]\n",
    "X_train.drop('count', axis=1, inplace=True)\n",
    "\n",
    "pickup_count_test = X_test[['count']]\n",
    "X_test.drop('count', axis=1, inplace=True)"
   ]
  },
  {
   "cell_type": "markdown",
   "metadata": {},
   "source": [
    "## 4. Machine learning"
   ]
  },
  {
   "cell_type": "code",
   "execution_count": 13,
   "metadata": {},
   "outputs": [
    {
     "name": "stdout",
     "output_type": "stream",
     "text": [
      "building tree 1 of 1\n",
      " R^2 (train) = 0.271, R^2 (valid) = 0.109, RMSE (train) = 0.082, RMSE (valid) = 0.055\n",
      "building tree 1 of 1\n"
     ]
    },
    {
     "name": "stderr",
     "output_type": "stream",
     "text": [
      "[Parallel(n_jobs=-1)]: Done   1 out of   1 | elapsed:    0.0s finished\n",
      "[Parallel(n_jobs=1)]: Done   1 out of   1 | elapsed:    0.0s remaining:    0.0s\n",
      "[Parallel(n_jobs=1)]: Done   1 out of   1 | elapsed:    0.0s finished\n",
      "[Parallel(n_jobs=1)]: Done   1 out of   1 | elapsed:    0.0s remaining:    0.0s\n",
      "[Parallel(n_jobs=1)]: Done   1 out of   1 | elapsed:    0.0s finished\n",
      "[Parallel(n_jobs=1)]: Done   1 out of   1 | elapsed:    0.0s remaining:    0.0s\n",
      "[Parallel(n_jobs=1)]: Done   1 out of   1 | elapsed:    0.0s finished\n",
      "[Parallel(n_jobs=1)]: Done   1 out of   1 | elapsed:    0.0s remaining:    0.0s\n",
      "[Parallel(n_jobs=1)]: Done   1 out of   1 | elapsed:    0.0s finished\n",
      "[Parallel(n_jobs=-1)]: Done   1 out of   1 | elapsed:    0.0s finished\n",
      "[Parallel(n_jobs=2)]: Done   2 out of   2 | elapsed:    0.0s remaining:    0.0s\n",
      "[Parallel(n_jobs=2)]: Done   2 out of   2 | elapsed:    0.0s finished\n",
      "[Parallel(n_jobs=2)]: Done   2 out of   2 | elapsed:    0.0s finished\n",
      "[Parallel(n_jobs=2)]: Done   2 out of   2 | elapsed:    0.0s remaining:    0.0s\n",
      "[Parallel(n_jobs=2)]: Done   2 out of   2 | elapsed:    0.0s finished\n",
      "[Parallel(n_jobs=2)]: Done   2 out of   2 | elapsed:    0.0s remaining:    0.0s\n",
      "[Parallel(n_jobs=2)]: Done   2 out of   2 | elapsed:    0.0s finished\n"
     ]
    },
    {
     "name": "stdout",
     "output_type": "stream",
     "text": [
      " R^2 (train) = 0.289, R^2 (valid) = 0.302, RMSE (train) = 0.081, RMSE (valid) = 0.048\n",
      "building tree 1 of 1\n"
     ]
    },
    {
     "name": "stderr",
     "output_type": "stream",
     "text": [
      "[Parallel(n_jobs=-1)]: Done   1 out of   1 | elapsed:    0.0s finished\n",
      "[Parallel(n_jobs=2)]: Done   3 out of   3 | elapsed:    0.0s remaining:    0.0s\n",
      "[Parallel(n_jobs=2)]: Done   3 out of   3 | elapsed:    0.0s finished\n",
      "[Parallel(n_jobs=2)]: Done   3 out of   3 | elapsed:    0.0s remaining:    0.0s\n",
      "[Parallel(n_jobs=2)]: Done   3 out of   3 | elapsed:    0.0s finished\n",
      "[Parallel(n_jobs=2)]: Done   3 out of   3 | elapsed:    0.0s remaining:    0.0s\n",
      "[Parallel(n_jobs=2)]: Done   3 out of   3 | elapsed:    0.0s finished\n",
      "[Parallel(n_jobs=2)]: Done   3 out of   3 | elapsed:    0.0s remaining:    0.0s\n",
      "[Parallel(n_jobs=2)]: Done   3 out of   3 | elapsed:    0.0s finished\n",
      "[Parallel(n_jobs=-1)]: Done   1 out of   1 | elapsed:    0.0s finished\n"
     ]
    },
    {
     "name": "stdout",
     "output_type": "stream",
     "text": [
      " R^2 (train) = 0.311, R^2 (valid) = 0.334, RMSE (train) = 0.080, RMSE (valid) = 0.047\n",
      "building tree 1 of 1\n"
     ]
    },
    {
     "name": "stderr",
     "output_type": "stream",
     "text": [
      "[Parallel(n_jobs=2)]: Done   4 out of   4 | elapsed:    0.0s finished\n",
      "[Parallel(n_jobs=2)]: Done   4 out of   4 | elapsed:    0.0s finished\n",
      "[Parallel(n_jobs=2)]: Done   4 out of   4 | elapsed:    0.0s finished\n",
      "[Parallel(n_jobs=2)]: Done   4 out of   4 | elapsed:    0.0s finished\n"
     ]
    },
    {
     "name": "stdout",
     "output_type": "stream",
     "text": [
      " R^2 (train) = 0.595, R^2 (valid) = 0.350, RMSE (train) = 0.061, RMSE (valid) = 0.047\n",
      "building tree 1 of 1\n"
     ]
    },
    {
     "name": "stderr",
     "output_type": "stream",
     "text": [
      "[Parallel(n_jobs=-1)]: Done   1 out of   1 | elapsed:    0.0s finished\n",
      "[Parallel(n_jobs=2)]: Done   5 out of   5 | elapsed:    0.0s finished\n",
      "[Parallel(n_jobs=2)]: Done   5 out of   5 | elapsed:    0.0s finished\n",
      "[Parallel(n_jobs=2)]: Done   5 out of   5 | elapsed:    0.0s finished\n",
      "[Parallel(n_jobs=2)]: Done   5 out of   5 | elapsed:    0.0s finished\n",
      "[Parallel(n_jobs=-1)]: Done   1 out of   1 | elapsed:    0.0s finished\n"
     ]
    },
    {
     "name": "stdout",
     "output_type": "stream",
     "text": [
      " R^2 (train) = 0.554, R^2 (valid) = 0.365, RMSE (train) = 0.064, RMSE (valid) = 0.046\n",
      "building tree 1 of 1\n"
     ]
    },
    {
     "name": "stderr",
     "output_type": "stream",
     "text": [
      "[Parallel(n_jobs=2)]: Done   6 out of   6 | elapsed:    0.0s finished\n",
      "[Parallel(n_jobs=2)]: Done   6 out of   6 | elapsed:    0.0s finished\n",
      "[Parallel(n_jobs=2)]: Done   6 out of   6 | elapsed:    0.0s finished\n",
      "[Parallel(n_jobs=2)]: Done   6 out of   6 | elapsed:    0.0s finished\n"
     ]
    },
    {
     "name": "stdout",
     "output_type": "stream",
     "text": [
      " R^2 (train) = 0.679, R^2 (valid) = 0.374, RMSE (train) = 0.055, RMSE (valid) = 0.046\n",
      "building tree 1 of 1\n"
     ]
    },
    {
     "name": "stderr",
     "output_type": "stream",
     "text": [
      "[Parallel(n_jobs=-1)]: Done   1 out of   1 | elapsed:    0.0s finished\n",
      "[Parallel(n_jobs=2)]: Done   7 out of   7 | elapsed:    0.1s finished\n",
      "[Parallel(n_jobs=2)]: Done   7 out of   7 | elapsed:    0.0s finished\n",
      "[Parallel(n_jobs=2)]: Done   7 out of   7 | elapsed:    0.0s finished\n",
      "[Parallel(n_jobs=2)]: Done   7 out of   7 | elapsed:    0.0s finished\n",
      "[Parallel(n_jobs=-1)]: Done   1 out of   1 | elapsed:    0.0s finished\n"
     ]
    },
    {
     "name": "stdout",
     "output_type": "stream",
     "text": [
      " R^2 (train) = 0.643, R^2 (valid) = 0.383, RMSE (train) = 0.058, RMSE (valid) = 0.045\n",
      "building tree 1 of 1\n"
     ]
    },
    {
     "name": "stderr",
     "output_type": "stream",
     "text": [
      "[Parallel(n_jobs=2)]: Done   8 out of   8 | elapsed:    0.0s remaining:    0.0s\n",
      "[Parallel(n_jobs=2)]: Done   8 out of   8 | elapsed:    0.0s finished\n",
      "[Parallel(n_jobs=2)]: Done   8 out of   8 | elapsed:    0.0s remaining:    0.0s\n",
      "[Parallel(n_jobs=2)]: Done   8 out of   8 | elapsed:    0.0s finished\n",
      "[Parallel(n_jobs=2)]: Done   8 out of   8 | elapsed:    0.0s remaining:    0.0s\n",
      "[Parallel(n_jobs=2)]: Done   8 out of   8 | elapsed:    0.0s finished\n",
      "[Parallel(n_jobs=2)]: Done   8 out of   8 | elapsed:    0.0s remaining:    0.0s\n",
      "[Parallel(n_jobs=2)]: Done   8 out of   8 | elapsed:    0.0s finished\n"
     ]
    },
    {
     "name": "stdout",
     "output_type": "stream",
     "text": [
      " R^2 (train) = 0.718, R^2 (valid) = 0.390, RMSE (train) = 0.051, RMSE (valid) = 0.045\n",
      "building tree 1 of 1\n"
     ]
    },
    {
     "name": "stderr",
     "output_type": "stream",
     "text": [
      "[Parallel(n_jobs=-1)]: Done   1 out of   1 | elapsed:    0.0s finished\n",
      "[Parallel(n_jobs=2)]: Done   9 out of   9 | elapsed:    0.0s remaining:    0.0s\n",
      "[Parallel(n_jobs=2)]: Done   9 out of   9 | elapsed:    0.0s finished\n",
      "[Parallel(n_jobs=2)]: Done   9 out of   9 | elapsed:    0.0s remaining:    0.0s\n",
      "[Parallel(n_jobs=2)]: Done   9 out of   9 | elapsed:    0.0s finished\n",
      "[Parallel(n_jobs=2)]: Done   9 out of   9 | elapsed:    0.0s remaining:    0.0s\n",
      "[Parallel(n_jobs=2)]: Done   9 out of   9 | elapsed:    0.0s finished\n",
      "[Parallel(n_jobs=2)]: Done   9 out of   9 | elapsed:    0.0s remaining:    0.0s\n",
      "[Parallel(n_jobs=2)]: Done   9 out of   9 | elapsed:    0.0s finished\n"
     ]
    },
    {
     "name": "stdout",
     "output_type": "stream",
     "text": [
      " R^2 (train) = 0.769, R^2 (valid) = 0.394, RMSE (train) = 0.046, RMSE (valid) = 0.045\n",
      "building tree 1 of 1\n"
     ]
    },
    {
     "name": "stderr",
     "output_type": "stream",
     "text": [
      "[Parallel(n_jobs=-1)]: Done   1 out of   1 | elapsed:    0.0s finished\n",
      "[Parallel(n_jobs=2)]: Done  10 out of  10 | elapsed:    0.0s remaining:    0.0s\n",
      "[Parallel(n_jobs=2)]: Done  10 out of  10 | elapsed:    0.0s finished\n",
      "[Parallel(n_jobs=2)]: Done  10 out of  10 | elapsed:    0.0s remaining:    0.0s\n",
      "[Parallel(n_jobs=2)]: Done  10 out of  10 | elapsed:    0.0s finished\n",
      "[Parallel(n_jobs=2)]: Done  10 out of  10 | elapsed:    0.0s remaining:    0.0s\n",
      "[Parallel(n_jobs=2)]: Done  10 out of  10 | elapsed:    0.0s finished\n",
      "[Parallel(n_jobs=2)]: Done  10 out of  10 | elapsed:    0.0s remaining:    0.0s\n",
      "[Parallel(n_jobs=2)]: Done  10 out of  10 | elapsed:    0.0s finished\n",
      "[Parallel(n_jobs=-1)]: Done   1 out of   1 | elapsed:    0.0s finished\n"
     ]
    },
    {
     "name": "stdout",
     "output_type": "stream",
     "text": [
      " R^2 (train) = 0.737, R^2 (valid) = 0.396, RMSE (train) = 0.049, RMSE (valid) = 0.045\n",
      "building tree 1 of 1\n"
     ]
    },
    {
     "name": "stderr",
     "output_type": "stream",
     "text": [
      "[Parallel(n_jobs=2)]: Done  11 out of  11 | elapsed:    0.0s remaining:    0.0s\n",
      "[Parallel(n_jobs=2)]: Done  11 out of  11 | elapsed:    0.0s finished\n",
      "[Parallel(n_jobs=2)]: Done  11 out of  11 | elapsed:    0.0s remaining:    0.0s\n",
      "[Parallel(n_jobs=2)]: Done  11 out of  11 | elapsed:    0.0s finished\n",
      "[Parallel(n_jobs=2)]: Done  11 out of  11 | elapsed:    0.0s remaining:    0.0s\n",
      "[Parallel(n_jobs=2)]: Done  11 out of  11 | elapsed:    0.0s finished\n",
      "[Parallel(n_jobs=2)]: Done  11 out of  11 | elapsed:    0.0s remaining:    0.0s\n",
      "[Parallel(n_jobs=2)]: Done  11 out of  11 | elapsed:    0.0s finished\n"
     ]
    },
    {
     "name": "stdout",
     "output_type": "stream",
     "text": [
      " R^2 (train) = 0.777, R^2 (valid) = 0.399, RMSE (train) = 0.045, RMSE (valid) = 0.045\n",
      "building tree 1 of 1\n"
     ]
    },
    {
     "name": "stderr",
     "output_type": "stream",
     "text": [
      "[Parallel(n_jobs=-1)]: Done   1 out of   1 | elapsed:    0.1s finished\n",
      "[Parallel(n_jobs=2)]: Done  12 out of  12 | elapsed:    0.0s finished\n",
      "[Parallel(n_jobs=2)]: Done  12 out of  12 | elapsed:    0.0s finished\n",
      "[Parallel(n_jobs=2)]: Done  12 out of  12 | elapsed:    0.0s finished\n",
      "[Parallel(n_jobs=2)]: Done  12 out of  12 | elapsed:    0.0s finished\n",
      "[Parallel(n_jobs=-1)]: Done   1 out of   1 | elapsed:    0.0s finished\n"
     ]
    },
    {
     "name": "stdout",
     "output_type": "stream",
     "text": [
      " R^2 (train) = 0.751, R^2 (valid) = 0.397, RMSE (train) = 0.048, RMSE (valid) = 0.045\n",
      "building tree 1 of 1\n"
     ]
    },
    {
     "name": "stderr",
     "output_type": "stream",
     "text": [
      "[Parallel(n_jobs=2)]: Done  13 out of  13 | elapsed:    0.0s finished\n",
      "[Parallel(n_jobs=2)]: Done  13 out of  13 | elapsed:    0.0s finished\n",
      "[Parallel(n_jobs=2)]: Done  13 out of  13 | elapsed:    0.1s finished\n",
      "[Parallel(n_jobs=2)]: Done  13 out of  13 | elapsed:    0.0s finished\n"
     ]
    },
    {
     "name": "stdout",
     "output_type": "stream",
     "text": [
      " R^2 (train) = 0.783, R^2 (valid) = 0.400, RMSE (train) = 0.045, RMSE (valid) = 0.045\n",
      "building tree 1 of 1\n"
     ]
    },
    {
     "name": "stderr",
     "output_type": "stream",
     "text": [
      "[Parallel(n_jobs=-1)]: Done   1 out of   1 | elapsed:    0.0s finished\n",
      "[Parallel(n_jobs=2)]: Done  14 out of  14 | elapsed:    0.0s finished\n",
      "[Parallel(n_jobs=2)]: Done  14 out of  14 | elapsed:    0.0s finished\n",
      "[Parallel(n_jobs=2)]: Done  14 out of  14 | elapsed:    0.0s finished\n",
      "[Parallel(n_jobs=2)]: Done  14 out of  14 | elapsed:    0.0s finished\n",
      "[Parallel(n_jobs=-1)]: Done   1 out of   1 | elapsed:    0.0s finished\n"
     ]
    },
    {
     "name": "stdout",
     "output_type": "stream",
     "text": [
      " R^2 (train) = 0.761, R^2 (valid) = 0.402, RMSE (train) = 0.047, RMSE (valid) = 0.045\n",
      "building tree 1 of 1\n"
     ]
    },
    {
     "name": "stderr",
     "output_type": "stream",
     "text": [
      "[Parallel(n_jobs=2)]: Done  15 out of  15 | elapsed:    0.0s finished\n",
      "[Parallel(n_jobs=2)]: Done  15 out of  15 | elapsed:    0.1s finished\n",
      "[Parallel(n_jobs=2)]: Done  15 out of  15 | elapsed:    0.0s finished\n",
      "[Parallel(n_jobs=2)]: Done  15 out of  15 | elapsed:    0.0s finished\n"
     ]
    },
    {
     "name": "stdout",
     "output_type": "stream",
     "text": [
      " R^2 (train) = 0.787, R^2 (valid) = 0.408, RMSE (train) = 0.044, RMSE (valid) = 0.044\n",
      "building tree 1 of 1\n"
     ]
    },
    {
     "name": "stderr",
     "output_type": "stream",
     "text": [
      "[Parallel(n_jobs=-1)]: Done   1 out of   1 | elapsed:    0.0s finished\n",
      "[Parallel(n_jobs=2)]: Done  16 out of  16 | elapsed:    0.1s finished\n",
      "[Parallel(n_jobs=2)]: Done  16 out of  16 | elapsed:    0.0s finished\n",
      "[Parallel(n_jobs=2)]: Done  16 out of  16 | elapsed:    0.0s finished\n",
      "[Parallel(n_jobs=2)]: Done  16 out of  16 | elapsed:    0.0s finished\n",
      "[Parallel(n_jobs=-1)]: Done   1 out of   1 | elapsed:    0.0s finished\n"
     ]
    },
    {
     "name": "stdout",
     "output_type": "stream",
     "text": [
      " R^2 (train) = 0.809, R^2 (valid) = 0.411, RMSE (train) = 0.042, RMSE (valid) = 0.044\n",
      "building tree 1 of 1\n"
     ]
    },
    {
     "name": "stderr",
     "output_type": "stream",
     "text": [
      "[Parallel(n_jobs=2)]: Done  17 out of  17 | elapsed:    0.0s finished\n",
      "[Parallel(n_jobs=2)]: Done  17 out of  17 | elapsed:    0.0s finished\n",
      "[Parallel(n_jobs=2)]: Done  17 out of  17 | elapsed:    0.0s finished\n",
      "[Parallel(n_jobs=2)]: Done  17 out of  17 | elapsed:    0.0s finished\n"
     ]
    },
    {
     "name": "stdout",
     "output_type": "stream",
     "text": [
      " R^2 (train) = 0.827, R^2 (valid) = 0.408, RMSE (train) = 0.040, RMSE (valid) = 0.044\n",
      "building tree 1 of 1\n"
     ]
    },
    {
     "name": "stderr",
     "output_type": "stream",
     "text": [
      "[Parallel(n_jobs=-1)]: Done   1 out of   1 | elapsed:    0.0s finished\n",
      "[Parallel(n_jobs=2)]: Done  18 out of  18 | elapsed:    0.0s finished\n",
      "[Parallel(n_jobs=2)]: Done  18 out of  18 | elapsed:    0.0s finished\n",
      "[Parallel(n_jobs=2)]: Done  18 out of  18 | elapsed:    0.0s finished\n",
      "[Parallel(n_jobs=2)]: Done  18 out of  18 | elapsed:    0.0s finished\n",
      "[Parallel(n_jobs=-1)]: Done   1 out of   1 | elapsed:    0.0s finished\n"
     ]
    },
    {
     "name": "stdout",
     "output_type": "stream",
     "text": [
      " R^2 (train) = 0.810, R^2 (valid) = 0.405, RMSE (train) = 0.042, RMSE (valid) = 0.045\n",
      "building tree 1 of 1\n"
     ]
    },
    {
     "name": "stderr",
     "output_type": "stream",
     "text": [
      "[Parallel(n_jobs=2)]: Done  19 out of  19 | elapsed:    0.0s finished\n",
      "[Parallel(n_jobs=2)]: Done  19 out of  19 | elapsed:    0.0s finished\n",
      "[Parallel(n_jobs=2)]: Done  19 out of  19 | elapsed:    0.0s finished\n",
      "[Parallel(n_jobs=2)]: Done  19 out of  19 | elapsed:    0.0s finished\n"
     ]
    },
    {
     "name": "stdout",
     "output_type": "stream",
     "text": [
      " R^2 (train) = 0.826, R^2 (valid) = 0.404, RMSE (train) = 0.040, RMSE (valid) = 0.045\n"
     ]
    }
   ],
   "source": [
    "reg = RandomForestRegressor(n_estimators=1, max_depth=20, n_jobs=-1, verbose=4, warm_start=True)\n",
    "for n in range(1,20):\n",
    "   reg.set_params(n_estimators=n)\n",
    "   reg.fit(X_train,y_train) #, sample_weight=pickup_count_train.values)\n",
    "   training_accuracy = reg.score(X_train, y_train)\n",
    "   valid_accuracy = reg.score(X_test, y_test)\n",
    "   rmsetrain = np.sqrt(mean_squared_error(reg.predict(X_train),y_train))\n",
    "   rmsevalid = np.sqrt(mean_squared_error(reg.predict(X_test),y_test))\n",
    "   print \" R^2 (train) = %0.3f, R^2 (valid) = %0.3f, RMSE (train) = %0.3f, RMSE (valid) = %0.3f\" % (training_accuracy, valid_accuracy, rmsetrain, rmsevalid)"
   ]
  },
  {
   "cell_type": "markdown",
   "metadata": {},
   "source": [
    "### Outcome\n",
    "\n",
    "The best RMSE value that we got was 0.120. In NYC each longitude is approx 53 miles & latitude is approx 69 miles (see reference below). This gives an **error range of 6.36 x 8.28 square miles**. So we do not have a great predictor here (but a great learning experience in modeling this problem)\n",
    "\n",
    "note: 1. We have not standardized lat & long in same scale - ideally this shd be done part of data prep. This would have given us a RMSE that we can apply properly to find exact error in distance.\n",
    "\n",
    "#### Reference [link](http://geography.about.com/library/faq/blqzdistancedegree.htm)\n",
    "Each degree of latitude is approximately 69 miles (111 kilometers) apart. The range varies (due to the earth's slightly ellipsoid shape) from 68.703 miles (110.567 km) at the equator to 69.407 (111.699 km) at the poles. \n",
    "A degree of longitude is widest at the equator at 69.172 miles (111.321) and gradually shrinks to zero at the poles. At 40° north or south the distance between a degree of longitude is 53 miles (85 km)."
   ]
  }
 ],
 "metadata": {
  "kernelspec": {
   "display_name": "Python 2",
   "language": "python",
   "name": "python2"
  },
  "language_info": {
   "codemirror_mode": {
    "name": "ipython",
    "version": 2
   },
   "file_extension": ".py",
   "mimetype": "text/x-python",
   "name": "python",
   "nbconvert_exporter": "python",
   "pygments_lexer": "ipython2",
   "version": "2.7.12"
  }
 },
 "nbformat": 4,
 "nbformat_minor": 1
}
