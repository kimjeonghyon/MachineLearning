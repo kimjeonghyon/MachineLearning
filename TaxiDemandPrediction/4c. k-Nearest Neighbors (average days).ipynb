{
 "cells": [
  {
   "cell_type": "markdown",
   "metadata": {},
   "source": [
    "### Preamble"
   ]
  },
  {
   "cell_type": "code",
   "execution_count": 1,
   "metadata": {},
   "outputs": [
    {
     "name": "stderr",
     "output_type": "stream",
     "text": [
      "/usr/local/lib/python2.7/dist-packages/sklearn/cross_validation.py:41: DeprecationWarning: This module was deprecated in version 0.18 in favor of the model_selection module into which all the refactored classes and functions are moved. Also note that the interface of the new CV iterators are different from that of this module. This module will be removed in 0.20.\n",
      "  \"This module will be removed in 0.20.\", DeprecationWarning)\n",
      "/usr/local/lib/python2.7/dist-packages/sklearn/grid_search.py:42: DeprecationWarning: This module was deprecated in version 0.18 in favor of the model_selection module into which all the refactored classes and functions are moved. This module will be removed in 0.20.\n",
      "  DeprecationWarning)\n"
     ]
    }
   ],
   "source": [
    "# Configure libraries\n",
    "%matplotlib inline\n",
    "import numpy as np\n",
    "import scipy as sp\n",
    "import matplotlib as mpl\n",
    "import matplotlib.cm as cm\n",
    "import matplotlib.pyplot as plt\n",
    "import pandas as pd\n",
    "pd.set_option('display.width', 500)\n",
    "pd.set_option('display.max_columns', 100)\n",
    "pd.set_option('display.notebook_repr_html', True)\n",
    "import seaborn as sns\n",
    "sns.set_style(\"whitegrid\")\n",
    "sns.set_context(\"poster\")\n",
    "from sklearn.grid_search import GridSearchCV\n",
    "from sklearn.cross_validation import train_test_split\n",
    "from sklearn.metrics import confusion_matrix\n",
    "from sklearn.ensemble import RandomForestRegressor\n",
    "from sklearn.neighbors import KNeighborsRegressor\n",
    "from sklearn.pipeline import Pipeline\n",
    "from sklearn.cross_validation import cross_val_score\n",
    "import geohash\n",
    "from sklearn.metrics import mean_squared_error"
   ]
  },
  {
   "cell_type": "code",
   "execution_count": 2,
   "metadata": {},
   "outputs": [],
   "source": [
    "# Funtion for cross-validation over a grid of parameters\n",
    "\n",
    "def cv_optimize(clf, parameters, X, y, n_jobs=1, n_folds=2, score_func=None):\n",
    "    if score_func:\n",
    "        gs = GridSearchCV(clf, param_grid=parameters, cv=n_folds, n_jobs=n_jobs, scoring=score_func)\n",
    "    else:\n",
    "        gs = GridSearchCV(clf, param_grid=parameters, n_jobs=n_jobs, cv=n_folds)\n",
    "    gs.fit(X, y)\n",
    "    print \"BEST\", gs.best_params_, gs.best_score_, gs.grid_scores_\n",
    "    best = gs.best_estimator_\n",
    "    return best"
   ]
  },
  {
   "cell_type": "markdown",
   "metadata": {},
   "source": [
    "###  Reading the data"
   ]
  },
  {
   "cell_type": "code",
   "execution_count": 15,
   "metadata": {},
   "outputs": [
    {
     "name": "stdout",
     "output_type": "stream",
     "text": [
      "(312330, 11)\n"
     ]
    },
    {
     "data": {
      "text/html": [
       "<div>\n",
       "<table border=\"1\" class=\"dataframe\">\n",
       "  <thead>\n",
       "    <tr style=\"text-align: right;\">\n",
       "      <th></th>\n",
       "      <th>time_cat</th>\n",
       "      <th>time_num</th>\n",
       "      <th>time_cos</th>\n",
       "      <th>time_sin</th>\n",
       "      <th>day_cat</th>\n",
       "      <th>day_num</th>\n",
       "      <th>day_cos</th>\n",
       "      <th>day_sin</th>\n",
       "      <th>weekend</th>\n",
       "      <th>geohash</th>\n",
       "      <th>pickups</th>\n",
       "    </tr>\n",
       "  </thead>\n",
       "  <tbody>\n",
       "    <tr>\n",
       "      <th>207128</th>\n",
       "      <td>11:00</td>\n",
       "      <td>0.479167</td>\n",
       "      <td>-0.991445</td>\n",
       "      <td>0.130526</td>\n",
       "      <td>Sunday</td>\n",
       "      <td>0.925595</td>\n",
       "      <td>0.892698</td>\n",
       "      <td>-0.450655</td>\n",
       "      <td>1</td>\n",
       "      <td>dr5ryx</td>\n",
       "      <td>1</td>\n",
       "    </tr>\n",
       "    <tr>\n",
       "      <th>199068</th>\n",
       "      <td>13:00</td>\n",
       "      <td>0.562500</td>\n",
       "      <td>-0.923880</td>\n",
       "      <td>-0.382683</td>\n",
       "      <td>Monday</td>\n",
       "      <td>0.080357</td>\n",
       "      <td>0.875223</td>\n",
       "      <td>0.483719</td>\n",
       "      <td>0</td>\n",
       "      <td>dr727s</td>\n",
       "      <td>1</td>\n",
       "    </tr>\n",
       "    <tr>\n",
       "      <th>68263</th>\n",
       "      <td>21:00</td>\n",
       "      <td>0.895833</td>\n",
       "      <td>0.793353</td>\n",
       "      <td>-0.608761</td>\n",
       "      <td>Monday</td>\n",
       "      <td>0.127976</td>\n",
       "      <td>0.693761</td>\n",
       "      <td>0.720205</td>\n",
       "      <td>0</td>\n",
       "      <td>dr72h7</td>\n",
       "      <td>3</td>\n",
       "    </tr>\n",
       "    <tr>\n",
       "      <th>173830</th>\n",
       "      <td>17:00</td>\n",
       "      <td>0.729167</td>\n",
       "      <td>-0.130526</td>\n",
       "      <td>-0.991445</td>\n",
       "      <td>Friday</td>\n",
       "      <td>0.675595</td>\n",
       "      <td>-0.450655</td>\n",
       "      <td>-0.892698</td>\n",
       "      <td>0</td>\n",
       "      <td>dr5r9j</td>\n",
       "      <td>1</td>\n",
       "    </tr>\n",
       "    <tr>\n",
       "      <th>203508</th>\n",
       "      <td>05:00</td>\n",
       "      <td>0.229167</td>\n",
       "      <td>0.130526</td>\n",
       "      <td>0.991445</td>\n",
       "      <td>Sunday</td>\n",
       "      <td>0.889881</td>\n",
       "      <td>0.770036</td>\n",
       "      <td>-0.638000</td>\n",
       "      <td>1</td>\n",
       "      <td>dr72wy</td>\n",
       "      <td>2</td>\n",
       "    </tr>\n",
       "  </tbody>\n",
       "</table>\n",
       "</div>"
      ],
      "text/plain": [
       "       time_cat  time_num  time_cos  time_sin day_cat   day_num   day_cos   day_sin  weekend geohash  pickups\n",
       "207128    11:00  0.479167 -0.991445  0.130526  Sunday  0.925595  0.892698 -0.450655        1  dr5ryx        1\n",
       "199068    13:00  0.562500 -0.923880 -0.382683  Monday  0.080357  0.875223  0.483719        0  dr727s        1\n",
       "68263     21:00  0.895833  0.793353 -0.608761  Monday  0.127976  0.693761  0.720205        0  dr72h7        3\n",
       "173830    17:00  0.729167 -0.130526 -0.991445  Friday  0.675595 -0.450655 -0.892698        0  dr5r9j        1\n",
       "203508    05:00  0.229167  0.130526  0.991445  Sunday  0.889881  0.770036 -0.638000        1  dr72wy        2"
      ]
     },
     "execution_count": 15,
     "metadata": {},
     "output_type": "execute_result"
    }
   ],
   "source": [
    "# Each line is of the format:\n",
    "# ((time_cat, time_num, time_cos, time_sin, day_cat, day_num, day_cos, day_sin, weekend, geohash), number of pickups)\n",
    "names = [\"time_cat\", \"time_num\", \"time_cos\", \"time_sin\", \"day_cat\", \"day_num\", \"day_cos\", \"day_sin\", \"weekend\", \"geohash\", \"pickups\"]\n",
    "dftaxi=pd.read_csv(\"./data/taxi_data.csv\", header=None, names = names)\n",
    "print dftaxi.shape\n",
    "dftaxi = dftaxi.sample(n=10000)\n",
    "# n = 50000\n",
    "# dftaxi = dftaxi.head(n)\n",
    "dftaxi.head()"
   ]
  },
  {
   "cell_type": "markdown",
   "metadata": {},
   "source": [
    "### Define training and test sets"
   ]
  },
  {
   "cell_type": "code",
   "execution_count": 16,
   "metadata": {},
   "outputs": [
    {
     "data": {
      "text/plain": [
       "array([ True, False,  True,  True,  True, False,  True,  True,  True,\n",
       "        True])"
      ]
     },
     "execution_count": 16,
     "metadata": {},
     "output_type": "execute_result"
    }
   ],
   "source": [
    "itrain, itest = train_test_split(xrange(dftaxi.shape[0]), train_size=0.8)\n",
    "mask=np.ones(dftaxi.shape[0], dtype='int')\n",
    "mask[itrain]=1\n",
    "mask[itest]=0\n",
    "mask = (mask==1)\n",
    "mask[:10]"
   ]
  },
  {
   "cell_type": "markdown",
   "metadata": {},
   "source": [
    "### Final preperation for machine learning"
   ]
  },
  {
   "cell_type": "code",
   "execution_count": 17,
   "metadata": {},
   "outputs": [],
   "source": [
    "# Split off the features\n",
    "Xnames = [\"time_cat\", \"time_num\", \"time_cos\", \"time_sin\", \"day_cat\",\n",
    "          \"day_num\", \"day_cos\", \"day_sin\", \"weekend\", \"geohash\"]\n",
    "X = dftaxi[Xnames]\n",
    "\n",
    "# Split off the target (which will be the logarithm of the number of pickups (+1))\n",
    "y = np.log10(dftaxi['pickups']+1)"
   ]
  },
  {
   "cell_type": "code",
   "execution_count": 18,
   "metadata": {},
   "outputs": [],
   "source": [
    "# Get the longitude and latitude from the geohash\n",
    "def decodegeo(geo, which):\n",
    "    if len(geo) == 6:\n",
    "        geodecoded = geohash.decode(geo)\n",
    "        return geodecoded[which]\n",
    "    else:\n",
    "        return 0\n",
    "X['latitude'] = X['geohash'].apply(lambda geo: decodegeo(geo, 0))\n",
    "X['longitude'] = X['geohash'].apply(lambda geo: decodegeo(geo, 1))"
   ]
  },
  {
   "cell_type": "code",
   "execution_count": 19,
   "metadata": {},
   "outputs": [
    {
     "data": {
      "text/html": [
       "<div>\n",
       "<table border=\"1\" class=\"dataframe\">\n",
       "  <thead>\n",
       "    <tr style=\"text-align: right;\">\n",
       "      <th></th>\n",
       "      <th>time_cat</th>\n",
       "      <th>time_num</th>\n",
       "      <th>time_cos</th>\n",
       "      <th>time_sin</th>\n",
       "      <th>day_cat</th>\n",
       "      <th>day_num</th>\n",
       "      <th>day_cos</th>\n",
       "      <th>day_sin</th>\n",
       "      <th>weekend</th>\n",
       "      <th>geohash</th>\n",
       "      <th>latitude</th>\n",
       "      <th>longitude</th>\n",
       "    </tr>\n",
       "  </thead>\n",
       "  <tbody>\n",
       "    <tr>\n",
       "      <th>207128</th>\n",
       "      <td>11:00</td>\n",
       "      <td>0.479167</td>\n",
       "      <td>-0.991445</td>\n",
       "      <td>0.130526</td>\n",
       "      <td>Sunday</td>\n",
       "      <td>0.925595</td>\n",
       "      <td>0.892698</td>\n",
       "      <td>-0.450655</td>\n",
       "      <td>1</td>\n",
       "      <td>dr5ryx</td>\n",
       "      <td>40.778503</td>\n",
       "      <td>-73.888550</td>\n",
       "    </tr>\n",
       "    <tr>\n",
       "      <th>199068</th>\n",
       "      <td>13:00</td>\n",
       "      <td>0.562500</td>\n",
       "      <td>-0.923880</td>\n",
       "      <td>-0.382683</td>\n",
       "      <td>Monday</td>\n",
       "      <td>0.080357</td>\n",
       "      <td>0.875223</td>\n",
       "      <td>0.483719</td>\n",
       "      <td>0</td>\n",
       "      <td>dr727s</td>\n",
       "      <td>40.849915</td>\n",
       "      <td>-74.020386</td>\n",
       "    </tr>\n",
       "    <tr>\n",
       "      <th>68263</th>\n",
       "      <td>21:00</td>\n",
       "      <td>0.895833</td>\n",
       "      <td>0.793353</td>\n",
       "      <td>-0.608761</td>\n",
       "      <td>Monday</td>\n",
       "      <td>0.127976</td>\n",
       "      <td>0.693761</td>\n",
       "      <td>0.720205</td>\n",
       "      <td>0</td>\n",
       "      <td>dr72h7</td>\n",
       "      <td>40.800476</td>\n",
       "      <td>-73.987427</td>\n",
       "    </tr>\n",
       "    <tr>\n",
       "      <th>173830</th>\n",
       "      <td>17:00</td>\n",
       "      <td>0.729167</td>\n",
       "      <td>-0.130526</td>\n",
       "      <td>-0.991445</td>\n",
       "      <td>Friday</td>\n",
       "      <td>0.675595</td>\n",
       "      <td>-0.450655</td>\n",
       "      <td>-0.892698</td>\n",
       "      <td>0</td>\n",
       "      <td>dr5r9j</td>\n",
       "      <td>40.723572</td>\n",
       "      <td>-74.130249</td>\n",
       "    </tr>\n",
       "    <tr>\n",
       "      <th>203508</th>\n",
       "      <td>05:00</td>\n",
       "      <td>0.229167</td>\n",
       "      <td>0.130526</td>\n",
       "      <td>0.991445</td>\n",
       "      <td>Sunday</td>\n",
       "      <td>0.889881</td>\n",
       "      <td>0.770036</td>\n",
       "      <td>-0.638000</td>\n",
       "      <td>1</td>\n",
       "      <td>dr72wy</td>\n",
       "      <td>40.904846</td>\n",
       "      <td>-73.877563</td>\n",
       "    </tr>\n",
       "  </tbody>\n",
       "</table>\n",
       "</div>"
      ],
      "text/plain": [
       "       time_cat  time_num  time_cos  time_sin day_cat   day_num   day_cos   day_sin  weekend geohash   latitude  longitude\n",
       "207128    11:00  0.479167 -0.991445  0.130526  Sunday  0.925595  0.892698 -0.450655        1  dr5ryx  40.778503 -73.888550\n",
       "199068    13:00  0.562500 -0.923880 -0.382683  Monday  0.080357  0.875223  0.483719        0  dr727s  40.849915 -74.020386\n",
       "68263     21:00  0.895833  0.793353 -0.608761  Monday  0.127976  0.693761  0.720205        0  dr72h7  40.800476 -73.987427\n",
       "173830    17:00  0.729167 -0.130526 -0.991445  Friday  0.675595 -0.450655 -0.892698        0  dr5r9j  40.723572 -74.130249\n",
       "203508    05:00  0.229167  0.130526  0.991445  Sunday  0.889881  0.770036 -0.638000        1  dr72wy  40.904846 -73.877563"
      ]
     },
     "execution_count": 19,
     "metadata": {},
     "output_type": "execute_result"
    }
   ],
   "source": [
    "X.head()"
   ]
  },
  {
   "cell_type": "code",
   "execution_count": 20,
   "metadata": {},
   "outputs": [],
   "source": [
    "# Create indicator variables for the hours and days of the week and drop the categorical values\n",
    "# g = 5\n",
    "X = X.join(pd.get_dummies(X['time_cat']))\\\n",
    "     .join(pd.get_dummies(X['day_cat']))\\\n",
    "     .drop(['time_cat','day_cat','geohash'], axis=1)\n",
    "#     .join(pd.get_dummies(X['geohash'].str[:g]))\\"
   ]
  },
  {
   "cell_type": "code",
   "execution_count": 21,
   "metadata": {},
   "outputs": [
    {
     "name": "stdout",
     "output_type": "stream",
     "text": [
      "<class 'pandas.core.frame.DataFrame'>\n",
      "Int64Index: 10000 entries, 207128 to 263250\n",
      "Data columns (total 40 columns):\n",
      "time_num     10000 non-null float64\n",
      "time_cos     10000 non-null float64\n",
      "time_sin     10000 non-null float64\n",
      "day_num      10000 non-null float64\n",
      "day_cos      10000 non-null float64\n",
      "day_sin      10000 non-null float64\n",
      "weekend      10000 non-null int64\n",
      "latitude     10000 non-null float64\n",
      "longitude    10000 non-null float64\n",
      "00:00        10000 non-null float64\n",
      "01:00        10000 non-null float64\n",
      "02:00        10000 non-null float64\n",
      "03:00        10000 non-null float64\n",
      "04:00        10000 non-null float64\n",
      "05:00        10000 non-null float64\n",
      "06:00        10000 non-null float64\n",
      "07:00        10000 non-null float64\n",
      "08:00        10000 non-null float64\n",
      "09:00        10000 non-null float64\n",
      "10:00        10000 non-null float64\n",
      "11:00        10000 non-null float64\n",
      "12:00        10000 non-null float64\n",
      "13:00        10000 non-null float64\n",
      "14:00        10000 non-null float64\n",
      "15:00        10000 non-null float64\n",
      "16:00        10000 non-null float64\n",
      "17:00        10000 non-null float64\n",
      "18:00        10000 non-null float64\n",
      "19:00        10000 non-null float64\n",
      "20:00        10000 non-null float64\n",
      "21:00        10000 non-null float64\n",
      "22:00        10000 non-null float64\n",
      "23:00        10000 non-null float64\n",
      "Friday       10000 non-null float64\n",
      "Monday       10000 non-null float64\n",
      "Saturday     10000 non-null float64\n",
      "Sunday       10000 non-null float64\n",
      "Thursday     10000 non-null float64\n",
      "Tuesday      10000 non-null float64\n",
      "Wednesday    10000 non-null float64\n",
      "dtypes: float64(39), int64(1)\n",
      "memory usage: 3.1 MB\n"
     ]
    }
   ],
   "source": [
    "X.head()\n",
    "X.info() # http://pandas.pydata.org/pandas-docs/stable/faq.html"
   ]
  },
  {
   "cell_type": "markdown",
   "metadata": {},
   "source": [
    "### Get the training and test sets"
   ]
  },
  {
   "cell_type": "code",
   "execution_count": 22,
   "metadata": {},
   "outputs": [
    {
     "data": {
      "text/html": [
       "<div>\n",
       "<table border=\"1\" class=\"dataframe\">\n",
       "  <thead>\n",
       "    <tr style=\"text-align: right;\">\n",
       "      <th></th>\n",
       "      <th>time_num</th>\n",
       "      <th>time_cos</th>\n",
       "      <th>time_sin</th>\n",
       "      <th>day_num</th>\n",
       "      <th>day_cos</th>\n",
       "      <th>day_sin</th>\n",
       "      <th>weekend</th>\n",
       "      <th>latitude</th>\n",
       "      <th>longitude</th>\n",
       "      <th>00:00</th>\n",
       "      <th>01:00</th>\n",
       "      <th>02:00</th>\n",
       "      <th>03:00</th>\n",
       "      <th>04:00</th>\n",
       "      <th>05:00</th>\n",
       "      <th>06:00</th>\n",
       "      <th>07:00</th>\n",
       "      <th>08:00</th>\n",
       "      <th>09:00</th>\n",
       "      <th>10:00</th>\n",
       "      <th>11:00</th>\n",
       "      <th>12:00</th>\n",
       "      <th>13:00</th>\n",
       "      <th>14:00</th>\n",
       "      <th>15:00</th>\n",
       "      <th>16:00</th>\n",
       "      <th>17:00</th>\n",
       "      <th>18:00</th>\n",
       "      <th>19:00</th>\n",
       "      <th>20:00</th>\n",
       "      <th>21:00</th>\n",
       "      <th>22:00</th>\n",
       "      <th>23:00</th>\n",
       "      <th>Friday</th>\n",
       "      <th>Monday</th>\n",
       "      <th>Saturday</th>\n",
       "      <th>Sunday</th>\n",
       "      <th>Thursday</th>\n",
       "      <th>Tuesday</th>\n",
       "      <th>Wednesday</th>\n",
       "    </tr>\n",
       "  </thead>\n",
       "  <tbody>\n",
       "    <tr>\n",
       "      <th>207128</th>\n",
       "      <td>0.479167</td>\n",
       "      <td>-0.991445</td>\n",
       "      <td>0.130526</td>\n",
       "      <td>0.925595</td>\n",
       "      <td>0.892698</td>\n",
       "      <td>-0.450655</td>\n",
       "      <td>1</td>\n",
       "      <td>40.778503</td>\n",
       "      <td>-73.888550</td>\n",
       "      <td>0</td>\n",
       "      <td>0</td>\n",
       "      <td>0</td>\n",
       "      <td>0</td>\n",
       "      <td>0</td>\n",
       "      <td>0</td>\n",
       "      <td>0</td>\n",
       "      <td>0</td>\n",
       "      <td>0</td>\n",
       "      <td>0</td>\n",
       "      <td>0</td>\n",
       "      <td>1</td>\n",
       "      <td>0</td>\n",
       "      <td>0</td>\n",
       "      <td>0</td>\n",
       "      <td>0</td>\n",
       "      <td>0</td>\n",
       "      <td>0</td>\n",
       "      <td>0</td>\n",
       "      <td>0</td>\n",
       "      <td>0</td>\n",
       "      <td>0</td>\n",
       "      <td>0</td>\n",
       "      <td>0</td>\n",
       "      <td>0</td>\n",
       "      <td>0</td>\n",
       "      <td>0</td>\n",
       "      <td>1</td>\n",
       "      <td>0</td>\n",
       "      <td>0</td>\n",
       "      <td>0</td>\n",
       "    </tr>\n",
       "    <tr>\n",
       "      <th>68263</th>\n",
       "      <td>0.895833</td>\n",
       "      <td>0.793353</td>\n",
       "      <td>-0.608761</td>\n",
       "      <td>0.127976</td>\n",
       "      <td>0.693761</td>\n",
       "      <td>0.720205</td>\n",
       "      <td>0</td>\n",
       "      <td>40.800476</td>\n",
       "      <td>-73.987427</td>\n",
       "      <td>0</td>\n",
       "      <td>0</td>\n",
       "      <td>0</td>\n",
       "      <td>0</td>\n",
       "      <td>0</td>\n",
       "      <td>0</td>\n",
       "      <td>0</td>\n",
       "      <td>0</td>\n",
       "      <td>0</td>\n",
       "      <td>0</td>\n",
       "      <td>0</td>\n",
       "      <td>0</td>\n",
       "      <td>0</td>\n",
       "      <td>0</td>\n",
       "      <td>0</td>\n",
       "      <td>0</td>\n",
       "      <td>0</td>\n",
       "      <td>0</td>\n",
       "      <td>0</td>\n",
       "      <td>0</td>\n",
       "      <td>0</td>\n",
       "      <td>1</td>\n",
       "      <td>0</td>\n",
       "      <td>0</td>\n",
       "      <td>0</td>\n",
       "      <td>1</td>\n",
       "      <td>0</td>\n",
       "      <td>0</td>\n",
       "      <td>0</td>\n",
       "      <td>0</td>\n",
       "      <td>0</td>\n",
       "    </tr>\n",
       "    <tr>\n",
       "      <th>173830</th>\n",
       "      <td>0.729167</td>\n",
       "      <td>-0.130526</td>\n",
       "      <td>-0.991445</td>\n",
       "      <td>0.675595</td>\n",
       "      <td>-0.450655</td>\n",
       "      <td>-0.892698</td>\n",
       "      <td>0</td>\n",
       "      <td>40.723572</td>\n",
       "      <td>-74.130249</td>\n",
       "      <td>0</td>\n",
       "      <td>0</td>\n",
       "      <td>0</td>\n",
       "      <td>0</td>\n",
       "      <td>0</td>\n",
       "      <td>0</td>\n",
       "      <td>0</td>\n",
       "      <td>0</td>\n",
       "      <td>0</td>\n",
       "      <td>0</td>\n",
       "      <td>0</td>\n",
       "      <td>0</td>\n",
       "      <td>0</td>\n",
       "      <td>0</td>\n",
       "      <td>0</td>\n",
       "      <td>0</td>\n",
       "      <td>0</td>\n",
       "      <td>1</td>\n",
       "      <td>0</td>\n",
       "      <td>0</td>\n",
       "      <td>0</td>\n",
       "      <td>0</td>\n",
       "      <td>0</td>\n",
       "      <td>0</td>\n",
       "      <td>1</td>\n",
       "      <td>0</td>\n",
       "      <td>0</td>\n",
       "      <td>0</td>\n",
       "      <td>0</td>\n",
       "      <td>0</td>\n",
       "      <td>0</td>\n",
       "    </tr>\n",
       "    <tr>\n",
       "      <th>203508</th>\n",
       "      <td>0.229167</td>\n",
       "      <td>0.130526</td>\n",
       "      <td>0.991445</td>\n",
       "      <td>0.889881</td>\n",
       "      <td>0.770036</td>\n",
       "      <td>-0.638000</td>\n",
       "      <td>1</td>\n",
       "      <td>40.904846</td>\n",
       "      <td>-73.877563</td>\n",
       "      <td>0</td>\n",
       "      <td>0</td>\n",
       "      <td>0</td>\n",
       "      <td>0</td>\n",
       "      <td>0</td>\n",
       "      <td>1</td>\n",
       "      <td>0</td>\n",
       "      <td>0</td>\n",
       "      <td>0</td>\n",
       "      <td>0</td>\n",
       "      <td>0</td>\n",
       "      <td>0</td>\n",
       "      <td>0</td>\n",
       "      <td>0</td>\n",
       "      <td>0</td>\n",
       "      <td>0</td>\n",
       "      <td>0</td>\n",
       "      <td>0</td>\n",
       "      <td>0</td>\n",
       "      <td>0</td>\n",
       "      <td>0</td>\n",
       "      <td>0</td>\n",
       "      <td>0</td>\n",
       "      <td>0</td>\n",
       "      <td>0</td>\n",
       "      <td>0</td>\n",
       "      <td>0</td>\n",
       "      <td>1</td>\n",
       "      <td>0</td>\n",
       "      <td>0</td>\n",
       "      <td>0</td>\n",
       "    </tr>\n",
       "    <tr>\n",
       "      <th>85625</th>\n",
       "      <td>0.354167</td>\n",
       "      <td>-0.608761</td>\n",
       "      <td>0.793353</td>\n",
       "      <td>0.336310</td>\n",
       "      <td>-0.516106</td>\n",
       "      <td>0.856525</td>\n",
       "      <td>0</td>\n",
       "      <td>40.652161</td>\n",
       "      <td>-73.778687</td>\n",
       "      <td>0</td>\n",
       "      <td>0</td>\n",
       "      <td>0</td>\n",
       "      <td>0</td>\n",
       "      <td>0</td>\n",
       "      <td>0</td>\n",
       "      <td>0</td>\n",
       "      <td>0</td>\n",
       "      <td>1</td>\n",
       "      <td>0</td>\n",
       "      <td>0</td>\n",
       "      <td>0</td>\n",
       "      <td>0</td>\n",
       "      <td>0</td>\n",
       "      <td>0</td>\n",
       "      <td>0</td>\n",
       "      <td>0</td>\n",
       "      <td>0</td>\n",
       "      <td>0</td>\n",
       "      <td>0</td>\n",
       "      <td>0</td>\n",
       "      <td>0</td>\n",
       "      <td>0</td>\n",
       "      <td>0</td>\n",
       "      <td>0</td>\n",
       "      <td>0</td>\n",
       "      <td>0</td>\n",
       "      <td>0</td>\n",
       "      <td>0</td>\n",
       "      <td>0</td>\n",
       "      <td>1</td>\n",
       "    </tr>\n",
       "  </tbody>\n",
       "</table>\n",
       "</div>"
      ],
      "text/plain": [
       "        time_num  time_cos  time_sin   day_num   day_cos   day_sin  weekend   latitude  longitude  00:00  01:00  02:00  03:00  04:00  05:00  06:00  07:00  08:00  09:00  10:00  11:00  12:00  13:00  14:00  15:00  16:00  17:00  18:00  19:00  20:00  21:00  22:00  23:00  Friday  Monday  Saturday  Sunday  Thursday  Tuesday  Wednesday\n",
       "207128  0.479167 -0.991445  0.130526  0.925595  0.892698 -0.450655        1  40.778503 -73.888550      0      0      0      0      0      0      0      0      0      0      0      1      0      0      0      0      0      0      0      0      0      0      0      0       0       0         0       1         0        0          0\n",
       "68263   0.895833  0.793353 -0.608761  0.127976  0.693761  0.720205        0  40.800476 -73.987427      0      0      0      0      0      0      0      0      0      0      0      0      0      0      0      0      0      0      0      0      0      1      0      0       0       1         0       0         0        0          0\n",
       "173830  0.729167 -0.130526 -0.991445  0.675595 -0.450655 -0.892698        0  40.723572 -74.130249      0      0      0      0      0      0      0      0      0      0      0      0      0      0      0      0      0      1      0      0      0      0      0      0       1       0         0       0         0        0          0\n",
       "203508  0.229167  0.130526  0.991445  0.889881  0.770036 -0.638000        1  40.904846 -73.877563      0      0      0      0      0      1      0      0      0      0      0      0      0      0      0      0      0      0      0      0      0      0      0      0       0       0         0       1         0        0          0\n",
       "85625   0.354167 -0.608761  0.793353  0.336310 -0.516106  0.856525        0  40.652161 -73.778687      0      0      0      0      0      0      0      0      1      0      0      0      0      0      0      0      0      0      0      0      0      0      0      0       0       0         0       0         0        0          1"
      ]
     },
     "execution_count": 22,
     "metadata": {},
     "output_type": "execute_result"
    }
   ],
   "source": [
    "Xtrain, Xtest, ytrain, ytest = X[mask], X[~mask], y[mask], y[~mask]\n",
    "n_samples = Xtrain.shape[0]\n",
    "n_features = Xtrain.shape[1]\n",
    "Xtrain.head()"
   ]
  },
  {
   "cell_type": "markdown",
   "metadata": {},
   "source": [
    "### k-Nearest Neighbors Regression"
   ]
  },
  {
   "cell_type": "code",
   "execution_count": 23,
   "metadata": {},
   "outputs": [],
   "source": [
    "# Create a k-Nearest Neighbors Regression estimator\n",
    "knn_estimator = KNeighborsRegressor()"
   ]
  },
  {
   "cell_type": "markdown",
   "metadata": {},
   "source": [
    "#### Normalize Data"
   ]
  },
  {
   "cell_type": "code",
   "execution_count": 24,
   "metadata": {},
   "outputs": [],
   "source": [
    "Xtrain_mean = Xtrain.mean()\n",
    "Xtrain_std_dev = Xtrain.std()\n",
    "Xtrain_normalized = (Xtrain - Xtrain_mean)/Xtrain_std_dev\n",
    "Xtest_normalized = (Xtest - Xtrain_mean)/Xtrain_std_dev\n"
   ]
  },
  {
   "cell_type": "code",
   "execution_count": 26,
   "metadata": {},
   "outputs": [
    {
     "name": "stderr",
     "output_type": "stream",
     "text": [
      "/usr/local/lib/python2.7/dist-packages/sklearn/metrics/scorer.py:100: DeprecationWarning: Scoring method mean_squared_error was renamed to neg_mean_squared_error in version 0.18 and will be removed in 0.20.\n",
      "  sample_weight=sample_weight)\n",
      "/usr/local/lib/python2.7/dist-packages/sklearn/metrics/scorer.py:100: DeprecationWarning: Scoring method mean_squared_error was renamed to neg_mean_squared_error in version 0.18 and will be removed in 0.20.\n",
      "  sample_weight=sample_weight)\n",
      "/usr/local/lib/python2.7/dist-packages/sklearn/metrics/scorer.py:100: DeprecationWarning: Scoring method mean_squared_error was renamed to neg_mean_squared_error in version 0.18 and will be removed in 0.20.\n",
      "  sample_weight=sample_weight)\n",
      "/usr/local/lib/python2.7/dist-packages/sklearn/metrics/scorer.py:100: DeprecationWarning: Scoring method mean_squared_error was renamed to neg_mean_squared_error in version 0.18 and will be removed in 0.20.\n",
      "  sample_weight=sample_weight)\n",
      "/usr/local/lib/python2.7/dist-packages/sklearn/metrics/scorer.py:100: DeprecationWarning: Scoring method mean_squared_error was renamed to neg_mean_squared_error in version 0.18 and will be removed in 0.20.\n",
      "  sample_weight=sample_weight)\n",
      "/usr/local/lib/python2.7/dist-packages/sklearn/metrics/scorer.py:100: DeprecationWarning: Scoring method mean_squared_error was renamed to neg_mean_squared_error in version 0.18 and will be removed in 0.20.\n",
      "  sample_weight=sample_weight)\n"
     ]
    },
    {
     "name": "stdout",
     "output_type": "stream",
     "text": [
      "BEST {'n_neighbors': 2} -0.962246194237 [mean: -1.10824, std: 0.01628, params: {'n_neighbors': 1}, mean: -0.96225, std: 0.01445, params: {'n_neighbors': 2}, mean: -1.00703, std: 0.02054, params: {'n_neighbors': 5}]\n",
      "CPU times: user 3.21 s, sys: 8 ms, total: 3.22 s\n",
      "Wall time: 3.24 s\n"
     ]
    }
   ],
   "source": [
    "%%time\n",
    "# Define a grid of parameters over which to optimize the knn regressor\n",
    "# We will figure out which number of neighbors is optimal\n",
    "#knn_parameters = {\"n_neighbors\": [1,2,5,10,20,50,100]}\n",
    "knn_parameters = {\"n_neighbors\": [1,2,5]}\n",
    "knn_best = cv_optimize(knn_estimator, knn_parameters, Xtrain_normalized, ytrain, score_func='mean_squared_error')"
   ]
  },
  {
   "cell_type": "markdown",
   "metadata": {},
   "source": [
    "### k-Nearest Neighbors Regression"
   ]
  },
  {
   "cell_type": "code",
   "execution_count": 27,
   "metadata": {},
   "outputs": [
    {
     "name": "stdout",
     "output_type": "stream",
     "text": [
      "############# based on standard predict ################\n",
      "R^2 on training data: 0.8108\n",
      "R^2 on test data:     0.4075\n"
     ]
    }
   ],
   "source": [
    "# Fit the best Random Forest and calculate R^2 values for training and test sets\n",
    "knn_reg=knn_best.fit(Xtrain_normalized, ytrain)\n",
    "knn_training_accuracy = knn_reg.score(Xtrain_normalized, ytrain)\n",
    "knn_test_accuracy = knn_reg.score(Xtest_normalized, ytest)\n",
    "print \"############# based on standard predict ################\"\n",
    "print \"R^2 on training data: %0.4f\" % (knn_training_accuracy)\n",
    "print \"R^2 on test data:     %0.4f\" % (knn_test_accuracy)"
   ]
  },
  {
   "cell_type": "code",
   "execution_count": 28,
   "metadata": {},
   "outputs": [
    {
     "data": {
      "text/plain": [
       "array([[ 1,  1],\n",
       "       [ 1,  1],\n",
       "       [ 4, 15],\n",
       "       ...,\n",
       "       [70, 23],\n",
       "       [ 1,  1],\n",
       "       [ 7,  3]])"
      ]
     },
     "execution_count": 28,
     "metadata": {},
     "output_type": "execute_result"
    }
   ],
   "source": [
    "# Show some of the predictions vs. the real number of pickups\n",
    "# predictions vs. real number of pickups\n",
    "np.round(np.power(10,np.column_stack((knn_reg.predict(Xtest_normalized),ytest))) - 1,decimals=0).astype(int)"
   ]
  },
  {
   "cell_type": "code",
   "execution_count": 29,
   "metadata": {},
   "outputs": [
    {
     "data": {
      "text/plain": [
       "0.8104902194598163"
      ]
     },
     "execution_count": 29,
     "metadata": {},
     "output_type": "execute_result"
    }
   ],
   "source": [
    "# Calculate the Root Mean Squared Error\n",
    "np.sqrt(mean_squared_error(knn_reg.predict(Xtest_normalized),ytest))"
   ]
  },
  {
   "cell_type": "code",
   "execution_count": null,
   "metadata": {
    "collapsed": true
   },
   "outputs": [],
   "source": []
  }
 ],
 "metadata": {
  "kernelspec": {
   "display_name": "Python 2",
   "language": "python",
   "name": "python2"
  },
  "language_info": {
   "codemirror_mode": {
    "name": "ipython",
    "version": 2
   },
   "file_extension": ".py",
   "mimetype": "text/x-python",
   "name": "python",
   "nbconvert_exporter": "python",
   "pygments_lexer": "ipython2",
   "version": "2.7.12"
  }
 },
 "nbformat": 4,
 "nbformat_minor": 1
}
