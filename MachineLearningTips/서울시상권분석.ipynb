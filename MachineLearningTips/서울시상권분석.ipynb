{
 "cells": [
  {
   "cell_type": "code",
   "execution_count": 3,
   "metadata": {},
   "outputs": [],
   "source": [
    "import pandas as pd\n",
    "from bs4 import BeautifulSoup\n",
    "import requests\n",
    "startnumber=1\n",
    "endnumber=1000\n",
    "CommerceInfor = {}\n",
    "codelist = []\n",
    "codenamelist = []\n",
    "totalnumberlist = []\n",
    "maletotallist = []\n",
    "femaletotallist = []\n",
    "agrade_10list = []\n",
    "agrade_20list = []\n",
    "agrade_30list = []\n",
    "agrade_40list = []\n",
    "agrade_50list = []\n",
    "above_60list = []"
   ]
  },
  {
   "cell_type": "code",
   "execution_count": 8,
   "metadata": {},
   "outputs": [],
   "source": [
    "url='http://openapi.seoul.go.kr:8088/626b4a4e426b696d363477484d4765/xml/VwsmTrdarFlpopQq/1/5/'\n",
    "req=requests.get(url)\n",
    "html=req.text\n",
    "soup=BeautifulSoup(html, 'html.parser')\n",
    "codenumber = soup.find_all('trdar_cd')\n",
    "codevalue = soup.find_all('trdar_cd_nm')"
   ]
  },
  {
   "cell_type": "code",
   "execution_count": 11,
   "metadata": {},
   "outputs": [
    {
     "data": {
      "text/plain": [
       "'1000145'"
      ]
     },
     "execution_count": 11,
     "metadata": {},
     "output_type": "execute_result"
    }
   ],
   "source": [
    "codenumber[1].text"
   ]
  },
  {
   "cell_type": "code",
   "execution_count": 9,
   "metadata": {},
   "outputs": [
    {
     "data": {
      "text/plain": [
       "[<trdar_cd_nm>계동길</trdar_cd_nm>,\n",
       " <trdar_cd_nm>뚝섬로24길</trdar_cd_nm>,\n",
       " <trdar_cd_nm>한천로14길</trdar_cd_nm>,\n",
       " <trdar_cd_nm>한천로101가길</trdar_cd_nm>,\n",
       " <trdar_cd_nm>가로공원로58길</trdar_cd_nm>]"
      ]
     },
     "execution_count": 9,
     "metadata": {},
     "output_type": "execute_result"
    }
   ],
   "source": [
    "codevalue"
   ]
  },
  {
   "cell_type": "code",
   "execution_count": null,
   "metadata": {},
   "outputs": [],
   "source": [
    "CommerceInfor['Code'] = codelist\n",
    "CommerceInfor['Name'] = codenamelist\n",
    "CommerceInfor['Total Number'] = totalnumberlist\n",
    "CommerceInfor['Male Total Number'] = maletotallist\n",
    "CommerceInfor['Female Total Number'] = femaletotallist\n",
    "CommerceInfor['Age 10s Number'] = agrade_10list\n",
    "CommerceInfor['Age 20s Number'] = agrade_20list\n",
    "CommerceInfor['Age 30s Number'] = agrade_30list\n",
    "CommerceInfor['Age 40s Number'] = agrade_40list\n",
    "CommerceInfor['Age 50s Number'] = agrade_50list\n",
    "CommerceInfor['Age above 60s Number'] = above_60list\n",
    "df = pd.DataFrame(CommerceInfor)"
   ]
  }
 ],
 "metadata": {
  "kernelspec": {
   "display_name": "Python 3",
   "language": "python",
   "name": "python3"
  },
  "language_info": {
   "codemirror_mode": {
    "name": "ipython",
    "version": 3
   },
   "file_extension": ".py",
   "mimetype": "text/x-python",
   "name": "python",
   "nbconvert_exporter": "python",
   "pygments_lexer": "ipython3",
   "version": "3.7.7"
  }
 },
 "nbformat": 4,
 "nbformat_minor": 4
}
